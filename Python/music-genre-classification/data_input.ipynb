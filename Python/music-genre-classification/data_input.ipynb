{
 "cells": [
  {
   "cell_type": "code",
   "execution_count": 1,
   "metadata": {},
   "outputs": [],
   "source": [
    "import numpy as np\n",
    "from matplotlib import pyplot as plt\n",
    "import pickle\n",
    "import sys\n",
    "import os\n",
    "from numpy import array\n",
    "import csv\n",
    "import codecs"
   ]
  },
  {
   "cell_type": "code",
   "execution_count": 2,
   "metadata": {},
   "outputs": [],
   "source": [
    "with open('./Data/train.csv') as csvfile:\n",
    "    readCSV = csv.reader(csvfile, delimiter=',')\n",
    "    labelsDict = {}\n",
    "    for row in readCSV:\n",
    "        labelsDict[row[0].split('.')[0]] = row[1]"
   ]
  },
  {
   "cell_type": "code",
   "execution_count": 3,
   "metadata": {},
   "outputs": [
    {
     "name": "stdout",
     "output_type": "stream",
     "text": [
      "Dataset size: 1733\n"
     ]
    }
   ],
   "source": [
    "walk_dir = './Data/test/pp'\n",
    "\n",
    "df = {}\n",
    "label = []\n",
    "\n",
    "for root, subdirs, files in os.walk(walk_dir):\n",
    "    for filename in files:\n",
    "        if filename.endswith('.pp'):\n",
    "            file_path = os.path.join(root, filename)\n",
    "            \n",
    "            with open(file_path, 'rb') as f:\n",
    "                try:\n",
    "                    soundID = os.path.splitext(filename)[0]\n",
    "                    content = f.read()\n",
    "                    pp = pickle.loads(content)\n",
    "                    pp = np.asarray(pp)\n",
    "                    df[soundID] = pp\n",
    "                    \n",
    "                    #label.append(labelsDict[soundID])\n",
    "                except Exception as e:\n",
    "                    print(\"Error occured:\" + str(e))\n",
    "        \n",
    "# save data\n",
    "with open(\"test\", 'wb') as f:\n",
    "    f.write(pickle.dumps(list(df.values())))\n",
    "            \n",
    "# with open(\"labels\", 'wb') as f:\n",
    "#    f.write(pickle.dumps(array(label)))\n",
    "        \n",
    "print(\"Dataset size: \" + str(len(df.keys())))"
   ]
  }
 ],
 "metadata": {
  "kernelspec": {
   "display_name": "Python 3",
   "language": "python",
   "name": "python3"
  },
  "language_info": {
   "codemirror_mode": {
    "name": "ipython",
    "version": 3
   },
   "file_extension": ".py",
   "mimetype": "text/x-python",
   "name": "python",
   "nbconvert_exporter": "python",
   "pygments_lexer": "ipython3",
   "version": "3.6.5"
  }
 },
 "nbformat": 4,
 "nbformat_minor": 2
}
